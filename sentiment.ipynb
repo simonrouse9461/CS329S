{
 "cells": [
  {
   "cell_type": "code",
   "execution_count": 3,
   "id": "7121c4ea-6485-4717-a4f3-f96cd92bd7b2",
   "metadata": {},
   "outputs": [],
   "source": [
    "import json\n",
    "import urllib\n",
    "import pickle\n",
    "from tqdm.auto import tqdm\n",
    "import pandas as pd\n",
    "import plotly.express as px\n",
    "from pipe import *\n",
    "from newspaper import Article, ArticleException\n",
    "from transformers import pipeline, AutoTokenizer, AutoModelForSequenceClassification\n",
    "\n",
    "tqdm.pandas()"
   ]
  },
  {
   "cell_type": "code",
   "execution_count": 7,
   "id": "365e577d-a6a3-45d6-9a5f-606c1b82de64",
   "metadata": {},
   "outputs": [],
   "source": [
    "CRYPTONEWS_API_ENDPOINT = \"https://cryptonews-api.com/api/v1\"\n",
    "CRYPTONEWS_API_TOKEN = \"oonymosrym98pjbpimxrmzv0yqoiotvlqcmprqzb\"\n",
    "NEWS_SOURCES = [\n",
    "    \"Altcoin Buzz\",\n",
    "    \"AMBCrypto\",\n",
    "    \"BeInCrypto\",\n",
    "    \"Benzinga\",\n",
    "    \"Bitcoin\",\n",
    "    \"Bitcoin Market Journal\",\n",
    "    \"Bitcoin Magazine\",\n",
    "    \"Bitcoinist\",\n",
    "    \"Bit News\",\n",
    "    \"Blockgeeks\",\n",
    "    \"Blockonomi\",\n",
    "    \"Bloomberg Markets and Finance\",\n",
    "    \"Bloomberg Technology\",\n",
    "    \"BTCManager\",\n",
    "    \"Business Insider\",\n",
    "    \"CNBC\",\n",
    "    \"CNBC Television\",\n",
    "    \"CNN\",\n",
    "    \"Coinbureau\",\n",
    "    \"Coindesk\",\n",
    "    \"Coindoo\",\n",
    "    \"Coinfomania\",\n",
    "    \"Coingape\",\n",
    "    \"Coin Idol\",\n",
    "    \"CoinMarketCap\",\n",
    "    \"Coin News Asia\",\n",
    "    \"Coinnounce\",\n",
    "    \"Crypto Briefing\",\n",
    "    \"Crypto Daily\",\n",
    "    \"Crypto Economy\",\n",
    "    \"CryptoNews\",\n",
    "    \"CryptoNinjas\",\n",
    "    \"Cryptopolitan\",\n",
    "    \"CryptoPotato\",\n",
    "    \"Crypto Reporter\",\n",
    "    \"CryptoSlate\",\n",
    "    \"CryptoTicker\",\n",
    "    \"Cryptoverze\",\n",
    "    \"DailyFX\",\n",
    "    \"DCForecasts\",\n",
    "    \"Decrypt\",\n",
    "    \"FinanceMagnates\",\n",
    "    \"Forbes\",\n",
    "    \"Fox Business\",\n",
    "    \"InvestingCube\",\n",
    "    \"Investorplace\",\n",
    "    \"Koinpost\",\n",
    "    \"Modern Consensus\",\n",
    "    \"NewsBTC\",\n",
    "    \"Reuters\",\n",
    "    \"The Block\",\n",
    "    \"TCU\",\n",
    "    \"The Cryptonomist\",\n",
    "    \"The Currency Analytics\",\n",
    "    \"The Daily Hodl\",\n",
    "    \"The Motley Fool\",\n",
    "    \"Trustnode\",\n",
    "    \"UToday\",\n",
    "    \"Yahoo Finance\",\n",
    "    \"8BTC\",\n",
    "]"
   ]
  },
  {
   "cell_type": "code",
   "execution_count": 16,
   "id": "d64cb955-355a-4eaa-9fbd-f12a5b60d4ab",
   "metadata": {},
   "outputs": [],
   "source": [
    "def encode_datetime_range(start, end=None):\n",
    "    if end is None:\n",
    "        end = pd.Timestamp.now()\n",
    "    start_date, start_time = start.strftime(\"%m%d%Y %H%M%S\").split()\n",
    "    end_date, end_time = end.strftime(\"%m%d%Y %H%M%S\").split()\n",
    "    return {\n",
    "        \"date\": f\"{start_date}-{end_date}\",\n",
    "        \"time\": f\"{start_time}-{end_time}\"\n",
    "    }\n",
    "\n",
    "def fetch_page(tickers, start, end, source, items, page):\n",
    "    params = {\"tickers\": \",\".join(tickers), \n",
    "              \"token\": CRYPTONEWS_API_TOKEN,\n",
    "              \"items\": items,\n",
    "              \"page\": page}\n",
    "    if start is not None:\n",
    "        params[\"date\"] = encode_datetime_range(start, end)[\"date\"]\n",
    "    if source is not None:\n",
    "        params[\"source\"] = \",\".join(source)\n",
    "    paramstr = urllib.parse.urlencode(params)\n",
    "    print(paramstr)\n",
    "    data = urllib.request.urlopen(f\"{CRYPTONEWS_API_ENDPOINT}?{paramstr}\").read()\n",
    "    df = pd.DataFrame(json.loads(data)['data'])\n",
    "    if len(df) == 0:\n",
    "        return None\n",
    "    df[\"date\"] = pd.to_datetime(df[\"date\"])\n",
    "    return df"
   ]
  },
  {
   "cell_type": "code",
   "execution_count": 24,
   "id": "8f117cd1-b845-4202-a3d8-9e4190a071e3",
   "metadata": {},
   "outputs": [
    {
     "data": {
      "text/plain": [
       "b'{\\n    \"data\": [],\\n    \"error\": \"No News Found - Please use our fallback feature to avoid empty responses.\"\\n}'"
      ]
     },
     "execution_count": 24,
     "metadata": {},
     "output_type": "execute_result"
    }
   ],
   "source": [
    "urllib.request.urlopen(f\"{CRYPTONEWS_API_ENDPOINT}?tickers=SOL&token=oonymosrym98pjbpimxrmzv0yqoiotvlqcmprqzb&items=50&page=2&date=02172022-02222022&source=Altcoin+Buzz%2CAMBCrypto%2CBeInCrypto%2CBenzinga%2CBitcoin%2CBitcoin+Market+Journal%2CBitcoin+Magazine%2CBitcoinist%2CBit+News%2CBlockgeeks%2CBlockonomi%2CBloomberg+Markets+and+Finance%2CBloomberg+Technology%2CBTCManager%2CBusiness+Insider%2CCNBC%2CCNBC+Television%2CCNN%2CCoinbureau%2CCoindesk%2CCoindoo%2CCoinfomania%2CCoingape%2CCoin+Idol%2CCoinMarketCap%2CCoin+News+Asia%2CCoinnounce%2CCrypto+Briefing%2CCrypto+Daily%2CCrypto+Economy%2CCryptoNews%2CCryptoNinjas%2CCryptopolitan%2CCryptoPotato%2CCrypto+Reporter%2CCryptoSlate%2CCryptoTicker%2CCryptoverze%2CDailyFX%2CDCForecasts%2CDecrypt%2CFinanceMagnates%2CForbes%2CFox+Business%2CInvestingCube%2CInvestorplace%2CKoinpost%2CModern+Consensus%2CNewsBTC%2CReuters%2CThe+Block%2CTCU%2CThe+Cryptonomist%2CThe+Currency+Analytics%2CThe+Daily+Hodl%2CThe+Motley+Fool%2CTrustnode%2CUToday%2CYahoo+Finance%2C8BTC\").read()"
   ]
  },
  {
   "cell_type": "code",
   "execution_count": 21,
   "id": "2e4c52ac-a029-4fb4-b0c2-fa9ccacb119a",
   "metadata": {},
   "outputs": [
    {
     "name": "stdout",
     "output_type": "stream",
     "text": [
      "tickers=SOL&token=oonymosrym98pjbpimxrmzv0yqoiotvlqcmprqzb&items=50&page=3&date=02172022-02272022\n"
     ]
    }
   ],
   "source": [
    "fetch_page([\"SOL\"], pd.Timestamp.now() - pd.DateOffset(days=10), pd.Timestamp.now(), None, 50, 3)"
   ]
  },
  {
   "cell_type": "code",
   "execution_count": 22,
   "id": "ce538fc0-9205-4b32-822c-498f7ddb42c8",
   "metadata": {},
   "outputs": [
    {
     "name": "stdout",
     "output_type": "stream",
     "text": [
      "tickers=sol&token=oonymosrym98pjbpimxrmzv0yqoiotvlqcmprqzb&items=50&page=1&date=02172022-02272022\n",
      "2022-02-22 17:26:00-05:00\n",
      "tickers=sol&token=oonymosrym98pjbpimxrmzv0yqoiotvlqcmprqzb&items=50&page=2&date=02172022-02272022\n",
      "2022-02-17 06:00:38-05:00\n",
      "tickers=sol&token=oonymosrym98pjbpimxrmzv0yqoiotvlqcmprqzb&items=50&page=3&date=02172022-02272022\n"
     ]
    }
   ],
   "source": [
    "end = None\n",
    "results = []\n",
    "page = 1\n",
    "while (df := fetch_page(tickers=[\"sol\"], \n",
    "                        start=pd.Timestamp.now() - pd.DateOffset(days=10), \n",
    "                        end=pd.Timestamp.now(), \n",
    "                        source=None,\n",
    "                        items=50,\n",
    "                        page=page)) is not None:\n",
    "    results.append(df)\n",
    "    page += 1\n",
    "    end = df[\"date\"].min()\n",
    "    print(end)\n",
    "if len(results) > 0:\n",
    "    data = pd.concat(results).reset_index(drop=True)"
   ]
  },
  {
   "cell_type": "code",
   "execution_count": 23,
   "id": "5707905e-38db-4bd6-8de5-2ad66cf7e789",
   "metadata": {},
   "outputs": [
    {
     "data": {
      "text/html": [
       "<div>\n",
       "<style scoped>\n",
       "    .dataframe tbody tr th:only-of-type {\n",
       "        vertical-align: middle;\n",
       "    }\n",
       "\n",
       "    .dataframe tbody tr th {\n",
       "        vertical-align: top;\n",
       "    }\n",
       "\n",
       "    .dataframe thead th {\n",
       "        text-align: right;\n",
       "    }\n",
       "</style>\n",
       "<table border=\"1\" class=\"dataframe\">\n",
       "  <thead>\n",
       "    <tr style=\"text-align: right;\">\n",
       "      <th></th>\n",
       "      <th>news_url</th>\n",
       "      <th>image_url</th>\n",
       "      <th>title</th>\n",
       "      <th>text</th>\n",
       "      <th>source_name</th>\n",
       "      <th>date</th>\n",
       "      <th>topics</th>\n",
       "      <th>sentiment</th>\n",
       "      <th>type</th>\n",
       "      <th>tickers</th>\n",
       "    </tr>\n",
       "  </thead>\n",
       "  <tbody>\n",
       "    <tr>\n",
       "      <th>0</th>\n",
       "      <td>https://thecurrencyanalytics.com/altcoins/alfp...</td>\n",
       "      <td>https://crypto.snapi.dev/images/v1/1/s/solana-...</td>\n",
       "      <td>Alfprotocol on Solana (SOL) Network To Increas...</td>\n",
       "      <td>Catch up on the latest crypto market news at T...</td>\n",
       "      <td>The Currency Analytics</td>\n",
       "      <td>2022-02-27 20:30:30-05:00</td>\n",
       "      <td>[]</td>\n",
       "      <td>Neutral</td>\n",
       "      <td>Article</td>\n",
       "      <td>[SOL]</td>\n",
       "    </tr>\n",
       "    <tr>\n",
       "      <th>1</th>\n",
       "      <td>https://ambcrypto.com/will-sol-outpace-its-per...</td>\n",
       "      <td>https://crypto.snapi.dev/images/v1/0/l/pexels-...</td>\n",
       "      <td>Will NFTs help SOL outpace its performance to ...</td>\n",
       "      <td>At press time, Solana [SOL] was changing hands...</td>\n",
       "      <td>AMBCrypto</td>\n",
       "      <td>2022-02-27 14:30:00-05:00</td>\n",
       "      <td>[NFT]</td>\n",
       "      <td>Positive</td>\n",
       "      <td>Article</td>\n",
       "      <td>[SOL]</td>\n",
       "    </tr>\n",
       "    <tr>\n",
       "      <th>2</th>\n",
       "      <td>https://www.cryptopolitan.com/bitcoin-ethereum...</td>\n",
       "      <td>https://crypto.snapi.dev/images/v1/5/t/5tg222-...</td>\n",
       "      <td>Bitcoin, Ethereum, Solana, and Terra LUNA Dail...</td>\n",
       "      <td>TL;DR Breakdown The global crypto market has g...</td>\n",
       "      <td>Cryptopolitan</td>\n",
       "      <td>2022-02-26 11:49:43-05:00</td>\n",
       "      <td>[tanalysis]</td>\n",
       "      <td>Neutral</td>\n",
       "      <td>Article</td>\n",
       "      <td>[BTC, ETH, LUNA, SOL]</td>\n",
       "    </tr>\n",
       "    <tr>\n",
       "      <th>3</th>\n",
       "      <td>https://www.cryptoglobe.com/latest/2022/02/sol...</td>\n",
       "      <td>https://crypto.snapi.dev/images/v1/9/c/neon-nf...</td>\n",
       "      <td>$SOL: This New York Vending Machine Sells Sola...</td>\n",
       "      <td>The Solana-powered non-fungible token (NFT) ma...</td>\n",
       "      <td>CryptoGlobe</td>\n",
       "      <td>2022-02-26 10:26:19-05:00</td>\n",
       "      <td>[NFT]</td>\n",
       "      <td>Neutral</td>\n",
       "      <td>Article</td>\n",
       "      <td>[SOL]</td>\n",
       "    </tr>\n",
       "    <tr>\n",
       "      <th>4</th>\n",
       "      <td>https://coinpedia.org/price-analysis/which-wil...</td>\n",
       "      <td>https://crypto.snapi.dev/images/v1/8/g/crypto4...</td>\n",
       "      <td>Which Will Enter the Top 5 Surpassing Cardano ...</td>\n",
       "      <td>Terra(LUNA) Price Analysis Terra's price from ...</td>\n",
       "      <td>CoinPedia</td>\n",
       "      <td>2022-02-26 07:41:05-05:00</td>\n",
       "      <td>[]</td>\n",
       "      <td>Positive</td>\n",
       "      <td>Article</td>\n",
       "      <td>[ADA, LUNA, SOL, XRP]</td>\n",
       "    </tr>\n",
       "    <tr>\n",
       "      <th>...</th>\n",
       "      <td>...</td>\n",
       "      <td>...</td>\n",
       "      <td>...</td>\n",
       "      <td>...</td>\n",
       "      <td>...</td>\n",
       "      <td>...</td>\n",
       "      <td>...</td>\n",
       "      <td>...</td>\n",
       "      <td>...</td>\n",
       "      <td>...</td>\n",
       "    </tr>\n",
       "    <tr>\n",
       "      <th>95</th>\n",
       "      <td>https://dailyhodl.com/2022/02/17/cardano-ada-s...</td>\n",
       "      <td>https://crypto.snapi.dev/images/v1/h/u/key-lea...</td>\n",
       "      <td>Solana (SOL), Cardano (ADA) and Polkadot (DOT)...</td>\n",
       "      <td>A top crypto analytics firm says the smart con...</td>\n",
       "      <td>The Daily Hodl</td>\n",
       "      <td>2022-02-17 10:30:50-05:00</td>\n",
       "      <td>[]</td>\n",
       "      <td>Positive</td>\n",
       "      <td>Article</td>\n",
       "      <td>[ADA, DOT, SOL]</td>\n",
       "    </tr>\n",
       "    <tr>\n",
       "      <th>96</th>\n",
       "      <td>https://ambcrypto.com/despite-recent-bounce-th...</td>\n",
       "      <td>https://crypto.snapi.dev/images/v1/v/k/pp-3-so...</td>\n",
       "      <td>Despite the recent bounce, this can hurt Solan...</td>\n",
       "      <td>The steady downtrend since early December appe...</td>\n",
       "      <td>AMBCrypto</td>\n",
       "      <td>2022-02-17 10:30:14-05:00</td>\n",
       "      <td>[]</td>\n",
       "      <td>Negative</td>\n",
       "      <td>Article</td>\n",
       "      <td>[SOL]</td>\n",
       "    </tr>\n",
       "    <tr>\n",
       "      <th>97</th>\n",
       "      <td>https://www.fool.com/investing/2022/02/17/miss...</td>\n",
       "      <td>https://crypto.snapi.dev/images/v1/m/o/urlhttp...</td>\n",
       "      <td>Missed Out on Shiba Inu? 2 Monster Cryptocurre...</td>\n",
       "      <td>These blockchain projects could produce big re...</td>\n",
       "      <td>The Motley Fool</td>\n",
       "      <td>2022-02-17 08:15:00-05:00</td>\n",
       "      <td>[]</td>\n",
       "      <td>Positive</td>\n",
       "      <td>Article</td>\n",
       "      <td>[LINK, SOL]</td>\n",
       "    </tr>\n",
       "    <tr>\n",
       "      <th>98</th>\n",
       "      <td>https://www.theblockresearch.com/layer-by-laye...</td>\n",
       "      <td>https://crypto.snapi.dev/images/v1/n/a/2021072...</td>\n",
       "      <td>Layer by Layer Issue 21: BNB Smart Chain, Cron...</td>\n",
       "      <td>Quick Take In this weekly series, we dive into...</td>\n",
       "      <td>The Block</td>\n",
       "      <td>2022-02-17 07:09:08-05:00</td>\n",
       "      <td>[]</td>\n",
       "      <td>Positive</td>\n",
       "      <td>Article</td>\n",
       "      <td>[BNB, FTM, SOL]</td>\n",
       "    </tr>\n",
       "    <tr>\n",
       "      <th>99</th>\n",
       "      <td>https://news.bitcoin.com/exotic-markets-founde...</td>\n",
       "      <td>https://crypto.snapi.dev/images/v1/v/r/feature...</td>\n",
       "      <td>Exotic Markets Founder Joffrey Dalet Talks Def...</td>\n",
       "      <td>Exotic Markets is a DeFi (Decentralized Financ...</td>\n",
       "      <td>Bitcoin</td>\n",
       "      <td>2022-02-17 06:00:38-05:00</td>\n",
       "      <td>[]</td>\n",
       "      <td>Neutral</td>\n",
       "      <td>Article</td>\n",
       "      <td>[SOL]</td>\n",
       "    </tr>\n",
       "  </tbody>\n",
       "</table>\n",
       "<p>100 rows × 10 columns</p>\n",
       "</div>"
      ],
      "text/plain": [
       "                                             news_url  \\\n",
       "0   https://thecurrencyanalytics.com/altcoins/alfp...   \n",
       "1   https://ambcrypto.com/will-sol-outpace-its-per...   \n",
       "2   https://www.cryptopolitan.com/bitcoin-ethereum...   \n",
       "3   https://www.cryptoglobe.com/latest/2022/02/sol...   \n",
       "4   https://coinpedia.org/price-analysis/which-wil...   \n",
       "..                                                ...   \n",
       "95  https://dailyhodl.com/2022/02/17/cardano-ada-s...   \n",
       "96  https://ambcrypto.com/despite-recent-bounce-th...   \n",
       "97  https://www.fool.com/investing/2022/02/17/miss...   \n",
       "98  https://www.theblockresearch.com/layer-by-laye...   \n",
       "99  https://news.bitcoin.com/exotic-markets-founde...   \n",
       "\n",
       "                                            image_url  \\\n",
       "0   https://crypto.snapi.dev/images/v1/1/s/solana-...   \n",
       "1   https://crypto.snapi.dev/images/v1/0/l/pexels-...   \n",
       "2   https://crypto.snapi.dev/images/v1/5/t/5tg222-...   \n",
       "3   https://crypto.snapi.dev/images/v1/9/c/neon-nf...   \n",
       "4   https://crypto.snapi.dev/images/v1/8/g/crypto4...   \n",
       "..                                                ...   \n",
       "95  https://crypto.snapi.dev/images/v1/h/u/key-lea...   \n",
       "96  https://crypto.snapi.dev/images/v1/v/k/pp-3-so...   \n",
       "97  https://crypto.snapi.dev/images/v1/m/o/urlhttp...   \n",
       "98  https://crypto.snapi.dev/images/v1/n/a/2021072...   \n",
       "99  https://crypto.snapi.dev/images/v1/v/r/feature...   \n",
       "\n",
       "                                                title  \\\n",
       "0   Alfprotocol on Solana (SOL) Network To Increas...   \n",
       "1   Will NFTs help SOL outpace its performance to ...   \n",
       "2   Bitcoin, Ethereum, Solana, and Terra LUNA Dail...   \n",
       "3   $SOL: This New York Vending Machine Sells Sola...   \n",
       "4   Which Will Enter the Top 5 Surpassing Cardano ...   \n",
       "..                                                ...   \n",
       "95  Solana (SOL), Cardano (ADA) and Polkadot (DOT)...   \n",
       "96  Despite the recent bounce, this can hurt Solan...   \n",
       "97  Missed Out on Shiba Inu? 2 Monster Cryptocurre...   \n",
       "98  Layer by Layer Issue 21: BNB Smart Chain, Cron...   \n",
       "99  Exotic Markets Founder Joffrey Dalet Talks Def...   \n",
       "\n",
       "                                                 text             source_name  \\\n",
       "0   Catch up on the latest crypto market news at T...  The Currency Analytics   \n",
       "1   At press time, Solana [SOL] was changing hands...               AMBCrypto   \n",
       "2   TL;DR Breakdown The global crypto market has g...           Cryptopolitan   \n",
       "3   The Solana-powered non-fungible token (NFT) ma...             CryptoGlobe   \n",
       "4   Terra(LUNA) Price Analysis Terra's price from ...               CoinPedia   \n",
       "..                                                ...                     ...   \n",
       "95  A top crypto analytics firm says the smart con...          The Daily Hodl   \n",
       "96  The steady downtrend since early December appe...               AMBCrypto   \n",
       "97  These blockchain projects could produce big re...         The Motley Fool   \n",
       "98  Quick Take In this weekly series, we dive into...               The Block   \n",
       "99  Exotic Markets is a DeFi (Decentralized Financ...                 Bitcoin   \n",
       "\n",
       "                        date       topics sentiment     type  \\\n",
       "0  2022-02-27 20:30:30-05:00           []   Neutral  Article   \n",
       "1  2022-02-27 14:30:00-05:00        [NFT]  Positive  Article   \n",
       "2  2022-02-26 11:49:43-05:00  [tanalysis]   Neutral  Article   \n",
       "3  2022-02-26 10:26:19-05:00        [NFT]   Neutral  Article   \n",
       "4  2022-02-26 07:41:05-05:00           []  Positive  Article   \n",
       "..                       ...          ...       ...      ...   \n",
       "95 2022-02-17 10:30:50-05:00           []  Positive  Article   \n",
       "96 2022-02-17 10:30:14-05:00           []  Negative  Article   \n",
       "97 2022-02-17 08:15:00-05:00           []  Positive  Article   \n",
       "98 2022-02-17 07:09:08-05:00           []  Positive  Article   \n",
       "99 2022-02-17 06:00:38-05:00           []   Neutral  Article   \n",
       "\n",
       "                  tickers  \n",
       "0                   [SOL]  \n",
       "1                   [SOL]  \n",
       "2   [BTC, ETH, LUNA, SOL]  \n",
       "3                   [SOL]  \n",
       "4   [ADA, LUNA, SOL, XRP]  \n",
       "..                    ...  \n",
       "95        [ADA, DOT, SOL]  \n",
       "96                  [SOL]  \n",
       "97            [LINK, SOL]  \n",
       "98        [BNB, FTM, SOL]  \n",
       "99                  [SOL]  \n",
       "\n",
       "[100 rows x 10 columns]"
      ]
     },
     "execution_count": 23,
     "metadata": {},
     "output_type": "execute_result"
    }
   ],
   "source": [
    "data"
   ]
  },
  {
   "cell_type": "code",
   "execution_count": 3,
   "id": "93d71d73-831b-48dd-a6e3-5cff6d2a6a54",
   "metadata": {},
   "outputs": [],
   "source": [
    "class CryptoNewsScraper:\n",
    "    \n",
    "    API_ENDPOINT = \"https://cryptonews-api.com/api/v1\"\n",
    "    \n",
    "    def __init__(self, token):\n",
    "        self.token = token\n",
    "        \n",
    "    def _encode_datetime_range(self, start, end=None):\n",
    "        if end is None:\n",
    "            end = pd.Timestamp.now()\n",
    "        start_date, start_time = start.strftime(\"%m%d%Y %H%M%S\").split()\n",
    "        end_date, end_time = end.strftime(\"%m%d%Y %H%M%S\").split()\n",
    "        return {\n",
    "            \"date\": f\"{start_date}-{end_date}\",\n",
    "            \"time\": f\"{start_time}-{end_time}\"\n",
    "        }\n",
    "    \n",
    "    def _fetch_page(self, tickers, start, end, source, items, page):\n",
    "        params = ({\"tickers\": \",\".join(tickers), \n",
    "                   \"token\": self.token})\n",
    "        params[\"items\"] = items\n",
    "        params[\"page\"] = page\n",
    "        if start is not None:\n",
    "            params[\"date\"] = self._encode_datetime_range(start, end)[\"date\"]\n",
    "        if source is not None:\n",
    "            params[\"source\"] = \",\".join(source)\n",
    "        paramstr = urllib.parse.urlencode(params)\n",
    "        data = urllib.request.urlopen(f\"{self.API_ENDPOINT}?{paramstr}\").read()\n",
    "        df = pd.DataFrame(json.loads(data)['data'])\n",
    "        if len(df) == 0:\n",
    "            return None\n",
    "        df[\"date\"] = pd.to_datetime(df[\"date\"])\n",
    "        return df\n",
    "            \n",
    "    def _scrape_article(self, url, nlp):\n",
    "        article = Article(url)\n",
    "        try:\n",
    "            article.download()\n",
    "            article.parse()\n",
    "            if nlp:\n",
    "                article.nlp()\n",
    "        except ArticleException:\n",
    "            return None\n",
    "        return article\n",
    "    \n",
    "    def fetch(self, tickers, start=None, end=None, source=None, nlp=True, verbose=False):\n",
    "        if start is None:\n",
    "            start = pd.Timestamp.now() - pd.DateOffset(days=1)\n",
    "        results = []\n",
    "        page = 1\n",
    "        while (df := self._fetch_page(tickers=tickers, start=start, end=end, source=source, items=50, page=page)) is not None:\n",
    "            results.append(df)\n",
    "            page += 1\n",
    "            end = df[\"date\"].min()\n",
    "            if verbose:\n",
    "                print(end)\n",
    "        data = None if len(results) == 0 else pd.concat(results).reset_index(drop=True)\n",
    "        tqdm.pandas(desc=\"Downloading\")\n",
    "        articles = data[\"news_url\"].progress_apply(lambda url: self._scrape_article(url=url, nlp=nlp))\n",
    "        notnan = ~articles.isna()\n",
    "        data.loc[notnan, \"news_content\"] = articles[notnan].apply(lambda art: art.text)\n",
    "        if nlp:\n",
    "            data.loc[notnan, \"news_summary\"] = articles[notnan].apply(lambda art: art.summary)\n",
    "            data.loc[notnan, \"news_keywords\"] = articles[notnan].apply(lambda art: art.keywords)\n",
    "        return data\n",
    "        "
   ]
  },
  {
   "cell_type": "code",
   "execution_count": 5,
   "id": "894220ac-3454-4568-bf87-0902f72e7cdf",
   "metadata": {},
   "outputs": [],
   "source": [
    "class AnalyticsPipeline:\n",
    "    def __init__(self, model=\"oandreae/financial_sentiment_model\"):\n",
    "        self.data = None\n",
    "        self.classifier = pipeline(\"text-classification\", model=model)\n",
    "\n",
    "    def analyze(self):\n",
    "        notnan = ~self.data[\"news_summary\"].isna()\n",
    "        analysis = pd.DataFrame(tqdm(self.classifier(self.data.loc[notnan, \"news_summary\"].to_list(), batch_size=8), desc=\"Analyzing\"))\n",
    "        self.data.loc[notnan, \"model_prediction\"] = analysis[\"label\"].values\n",
    "        self.data.loc[notnan, \"model_confidence\"] = analysis[\"score\"].values\n",
    "        \n",
    "    def summary(self):\n",
    "        return (self.data\n",
    "                .groupby(by=[self.data[\"date\"].dt.date, \"model_prediction\"])[[\"model_confidence\"]]\n",
    "                .sum()\n",
    "                .reset_index()\n",
    "                .astype({\"date\": \"datetime64\"})\n",
    "                .pivot(index=\"date\", columns=\"model_prediction\", values=\"model_confidence\")\n",
    "                .fillna(0)\n",
    "                .resample(\"D\", kind=\"timestamp\")\n",
    "                .sum())\n",
    "        \n",
    "    def set_data(self, data):\n",
    "        self.data = data\n",
    "        \n",
    "    def save_data(self, file):\n",
    "        pickle.dump(self.data, open(file, \"rw\"))\n",
    "        \n",
    "    def load_data(self, file):\n",
    "        self.data = pickle.load(open(file, \"rb\"))"
   ]
  },
  {
   "cell_type": "code",
   "execution_count": 11,
   "id": "b3b44524-8bdc-4627-babd-d3573e66da10",
   "metadata": {},
   "outputs": [],
   "source": [
    "scraper = CryptoNewsScraper(token=CRYPTONEWS_API_TOKEN)"
   ]
  },
  {
   "cell_type": "code",
   "execution_count": 17,
   "id": "08cd3e8a-8ff4-447c-b9f1-82ab41206590",
   "metadata": {},
   "outputs": [
    {
     "name": "stdout",
     "output_type": "stream",
     "text": [
      "2022-02-07 12:18:13-05:00\n",
      "2022-02-02 09:26:03-05:00\n",
      "2022-01-26 02:46:00-05:00\n",
      "2022-01-14 14:45:02-05:00\n"
     ]
    },
    {
     "data": {
      "application/vnd.jupyter.widget-view+json": {
       "model_id": "24758979b65f41f7a9ba8c3616466995",
       "version_major": 2,
       "version_minor": 0
      },
      "text/plain": [
       "Downloading:   0%|          | 0/200 [00:00<?, ?it/s]"
      ]
     },
     "metadata": {},
     "output_type": "display_data"
    }
   ],
   "source": [
    "news_data = scraper.fetch(tickers=[\"SOL\"], start=pd.Timestamp.now() - pd.DateOffset(days=30), nlp=True, verbose=True)"
   ]
  },
  {
   "cell_type": "code",
   "execution_count": 6,
   "id": "3cb3cf26-a42b-4965-ac02-4b592a5ded57",
   "metadata": {},
   "outputs": [
    {
     "name": "stderr",
     "output_type": "stream",
     "text": [
      "Using unk_token, but it is not set yet.\n",
      "Using unk_token, but it is not set yet.\n",
      "Using unk_token, but it is not set yet.\n",
      "Using unk_token, but it is not set yet.\n",
      "Using unk_token, but it is not set yet.\n",
      "Using unk_token, but it is not set yet.\n",
      "Using unk_token, but it is not set yet.\n",
      "Using unk_token, but it is not set yet.\n",
      "Using unk_token, but it is not set yet.\n",
      "Using unk_token, but it is not set yet.\n",
      "Using unk_token, but it is not set yet.\n",
      "Using unk_token, but it is not set yet.\n"
     ]
    }
   ],
   "source": [
    "pipeline = AnalyticsPipeline()\n",
    "# pipeline.set_data(news_data)\n",
    "pipeline.load_data(\"SOL_30days.pkl\")"
   ]
  },
  {
   "cell_type": "code",
   "execution_count": 19,
   "id": "052216c8-3bf6-4f00-a5cb-530cdd87b0a3",
   "metadata": {},
   "outputs": [
    {
     "data": {
      "application/vnd.jupyter.widget-view+json": {
       "model_id": "83b260d530ee445ebede91cd63333e99",
       "version_major": 2,
       "version_minor": 0
      },
      "text/plain": [
       "Analyzing:   0%|          | 0/189 [00:00<?, ?it/s]"
      ]
     },
     "metadata": {},
     "output_type": "display_data"
    }
   ],
   "source": [
    "pipeline.analyze()"
   ]
  },
  {
   "cell_type": "code",
   "execution_count": 7,
   "id": "289f6daa-ea14-457e-b1af-3d5d3ce1bd13",
   "metadata": {},
   "outputs": [
    {
     "data": {
      "text/html": [
       "<div>\n",
       "<style scoped>\n",
       "    .dataframe tbody tr th:only-of-type {\n",
       "        vertical-align: middle;\n",
       "    }\n",
       "\n",
       "    .dataframe tbody tr th {\n",
       "        vertical-align: top;\n",
       "    }\n",
       "\n",
       "    .dataframe thead th {\n",
       "        text-align: right;\n",
       "    }\n",
       "</style>\n",
       "<table border=\"1\" class=\"dataframe\">\n",
       "  <thead>\n",
       "    <tr style=\"text-align: right;\">\n",
       "      <th>model_prediction</th>\n",
       "      <th>negative</th>\n",
       "      <th>neutral</th>\n",
       "      <th>positive</th>\n",
       "    </tr>\n",
       "    <tr>\n",
       "      <th>date</th>\n",
       "      <th></th>\n",
       "      <th></th>\n",
       "      <th></th>\n",
       "    </tr>\n",
       "  </thead>\n",
       "  <tbody>\n",
       "    <tr>\n",
       "      <th>2022-01-14</th>\n",
       "      <td>0.000000</td>\n",
       "      <td>1.861497</td>\n",
       "      <td>0.879016</td>\n",
       "    </tr>\n",
       "    <tr>\n",
       "      <th>2022-01-15</th>\n",
       "      <td>0.000000</td>\n",
       "      <td>1.669828</td>\n",
       "      <td>3.729352</td>\n",
       "    </tr>\n",
       "    <tr>\n",
       "      <th>2022-01-16</th>\n",
       "      <td>0.000000</td>\n",
       "      <td>3.826742</td>\n",
       "      <td>3.674219</td>\n",
       "    </tr>\n",
       "    <tr>\n",
       "      <th>2022-01-17</th>\n",
       "      <td>1.757232</td>\n",
       "      <td>5.431007</td>\n",
       "      <td>7.097517</td>\n",
       "    </tr>\n",
       "    <tr>\n",
       "      <th>2022-01-18</th>\n",
       "      <td>1.536631</td>\n",
       "      <td>3.844034</td>\n",
       "      <td>6.562761</td>\n",
       "    </tr>\n",
       "    <tr>\n",
       "      <th>2022-01-19</th>\n",
       "      <td>0.000000</td>\n",
       "      <td>0.000000</td>\n",
       "      <td>0.000000</td>\n",
       "    </tr>\n",
       "    <tr>\n",
       "      <th>2022-01-20</th>\n",
       "      <td>0.000000</td>\n",
       "      <td>0.000000</td>\n",
       "      <td>0.000000</td>\n",
       "    </tr>\n",
       "    <tr>\n",
       "      <th>2022-01-21</th>\n",
       "      <td>0.000000</td>\n",
       "      <td>0.000000</td>\n",
       "      <td>0.000000</td>\n",
       "    </tr>\n",
       "    <tr>\n",
       "      <th>2022-01-22</th>\n",
       "      <td>0.000000</td>\n",
       "      <td>0.000000</td>\n",
       "      <td>0.000000</td>\n",
       "    </tr>\n",
       "    <tr>\n",
       "      <th>2022-01-23</th>\n",
       "      <td>0.000000</td>\n",
       "      <td>0.000000</td>\n",
       "      <td>0.000000</td>\n",
       "    </tr>\n",
       "    <tr>\n",
       "      <th>2022-01-24</th>\n",
       "      <td>0.000000</td>\n",
       "      <td>0.000000</td>\n",
       "      <td>0.000000</td>\n",
       "    </tr>\n",
       "    <tr>\n",
       "      <th>2022-01-25</th>\n",
       "      <td>0.000000</td>\n",
       "      <td>0.000000</td>\n",
       "      <td>0.000000</td>\n",
       "    </tr>\n",
       "    <tr>\n",
       "      <th>2022-01-26</th>\n",
       "      <td>2.439977</td>\n",
       "      <td>14.068105</td>\n",
       "      <td>5.704058</td>\n",
       "    </tr>\n",
       "    <tr>\n",
       "      <th>2022-01-27</th>\n",
       "      <td>1.685763</td>\n",
       "      <td>1.948429</td>\n",
       "      <td>2.829010</td>\n",
       "    </tr>\n",
       "    <tr>\n",
       "      <th>2022-01-28</th>\n",
       "      <td>1.715226</td>\n",
       "      <td>2.433951</td>\n",
       "      <td>0.000000</td>\n",
       "    </tr>\n",
       "    <tr>\n",
       "      <th>2022-01-29</th>\n",
       "      <td>0.000000</td>\n",
       "      <td>0.972006</td>\n",
       "      <td>2.765367</td>\n",
       "    </tr>\n",
       "    <tr>\n",
       "      <th>2022-01-30</th>\n",
       "      <td>0.000000</td>\n",
       "      <td>0.000000</td>\n",
       "      <td>0.980924</td>\n",
       "    </tr>\n",
       "    <tr>\n",
       "      <th>2022-01-31</th>\n",
       "      <td>0.000000</td>\n",
       "      <td>0.000000</td>\n",
       "      <td>0.000000</td>\n",
       "    </tr>\n",
       "    <tr>\n",
       "      <th>2022-02-01</th>\n",
       "      <td>0.000000</td>\n",
       "      <td>0.000000</td>\n",
       "      <td>0.000000</td>\n",
       "    </tr>\n",
       "    <tr>\n",
       "      <th>2022-02-02</th>\n",
       "      <td>6.352718</td>\n",
       "      <td>7.043663</td>\n",
       "      <td>4.223867</td>\n",
       "    </tr>\n",
       "    <tr>\n",
       "      <th>2022-02-03</th>\n",
       "      <td>6.013921</td>\n",
       "      <td>12.796977</td>\n",
       "      <td>2.821943</td>\n",
       "    </tr>\n",
       "    <tr>\n",
       "      <th>2022-02-04</th>\n",
       "      <td>0.000000</td>\n",
       "      <td>0.000000</td>\n",
       "      <td>0.000000</td>\n",
       "    </tr>\n",
       "    <tr>\n",
       "      <th>2022-02-05</th>\n",
       "      <td>0.000000</td>\n",
       "      <td>0.000000</td>\n",
       "      <td>0.000000</td>\n",
       "    </tr>\n",
       "    <tr>\n",
       "      <th>2022-02-06</th>\n",
       "      <td>0.000000</td>\n",
       "      <td>0.000000</td>\n",
       "      <td>0.000000</td>\n",
       "    </tr>\n",
       "    <tr>\n",
       "      <th>2022-02-07</th>\n",
       "      <td>0.000000</td>\n",
       "      <td>0.869328</td>\n",
       "      <td>0.774885</td>\n",
       "    </tr>\n",
       "    <tr>\n",
       "      <th>2022-02-08</th>\n",
       "      <td>0.000000</td>\n",
       "      <td>1.989154</td>\n",
       "      <td>5.332952</td>\n",
       "    </tr>\n",
       "    <tr>\n",
       "      <th>2022-02-09</th>\n",
       "      <td>1.667729</td>\n",
       "      <td>3.515804</td>\n",
       "      <td>6.750077</td>\n",
       "    </tr>\n",
       "    <tr>\n",
       "      <th>2022-02-10</th>\n",
       "      <td>0.778198</td>\n",
       "      <td>2.853350</td>\n",
       "      <td>4.630677</td>\n",
       "    </tr>\n",
       "    <tr>\n",
       "      <th>2022-02-11</th>\n",
       "      <td>2.565877</td>\n",
       "      <td>3.882396</td>\n",
       "      <td>1.963043</td>\n",
       "    </tr>\n",
       "    <tr>\n",
       "      <th>2022-02-12</th>\n",
       "      <td>1.698094</td>\n",
       "      <td>0.990010</td>\n",
       "      <td>1.863476</td>\n",
       "    </tr>\n",
       "  </tbody>\n",
       "</table>\n",
       "</div>"
      ],
      "text/plain": [
       "model_prediction  negative    neutral  positive\n",
       "date                                           \n",
       "2022-01-14        0.000000   1.861497  0.879016\n",
       "2022-01-15        0.000000   1.669828  3.729352\n",
       "2022-01-16        0.000000   3.826742  3.674219\n",
       "2022-01-17        1.757232   5.431007  7.097517\n",
       "2022-01-18        1.536631   3.844034  6.562761\n",
       "2022-01-19        0.000000   0.000000  0.000000\n",
       "2022-01-20        0.000000   0.000000  0.000000\n",
       "2022-01-21        0.000000   0.000000  0.000000\n",
       "2022-01-22        0.000000   0.000000  0.000000\n",
       "2022-01-23        0.000000   0.000000  0.000000\n",
       "2022-01-24        0.000000   0.000000  0.000000\n",
       "2022-01-25        0.000000   0.000000  0.000000\n",
       "2022-01-26        2.439977  14.068105  5.704058\n",
       "2022-01-27        1.685763   1.948429  2.829010\n",
       "2022-01-28        1.715226   2.433951  0.000000\n",
       "2022-01-29        0.000000   0.972006  2.765367\n",
       "2022-01-30        0.000000   0.000000  0.980924\n",
       "2022-01-31        0.000000   0.000000  0.000000\n",
       "2022-02-01        0.000000   0.000000  0.000000\n",
       "2022-02-02        6.352718   7.043663  4.223867\n",
       "2022-02-03        6.013921  12.796977  2.821943\n",
       "2022-02-04        0.000000   0.000000  0.000000\n",
       "2022-02-05        0.000000   0.000000  0.000000\n",
       "2022-02-06        0.000000   0.000000  0.000000\n",
       "2022-02-07        0.000000   0.869328  0.774885\n",
       "2022-02-08        0.000000   1.989154  5.332952\n",
       "2022-02-09        1.667729   3.515804  6.750077\n",
       "2022-02-10        0.778198   2.853350  4.630677\n",
       "2022-02-11        2.565877   3.882396  1.963043\n",
       "2022-02-12        1.698094   0.990010  1.863476"
      ]
     },
     "execution_count": 7,
     "metadata": {},
     "output_type": "execute_result"
    }
   ],
   "source": [
    "pipeline.summary()"
   ]
  },
  {
   "cell_type": "code",
   "execution_count": 15,
   "id": "11b512f0-cf54-4dfa-b3e2-4e9fc7fea658",
   "metadata": {},
   "outputs": [
    {
     "data": {
      "application/vnd.plotly.v1+json": {
       "config": {
        "plotlyServerURL": "https://plot.ly"
       },
       "data": [
        {
         "alignmentgroup": "True",
         "hovertemplate": "model_prediction=negative<br>date=%{x}<br>sentiment scores=%{y}<extra></extra>",
         "legendgroup": "negative",
         "marker": {
          "color": "#EF553B",
          "pattern": {
           "shape": ""
          }
         },
         "name": "negative",
         "offsetgroup": "negative",
         "orientation": "v",
         "showlegend": true,
         "textposition": "auto",
         "type": "bar",
         "x": [
          "2022-01-14T00:00:00",
          "2022-01-15T00:00:00",
          "2022-01-16T00:00:00",
          "2022-01-17T00:00:00",
          "2022-01-18T00:00:00",
          "2022-01-19T00:00:00",
          "2022-01-20T00:00:00",
          "2022-01-21T00:00:00",
          "2022-01-22T00:00:00",
          "2022-01-23T00:00:00",
          "2022-01-24T00:00:00",
          "2022-01-25T00:00:00",
          "2022-01-26T00:00:00",
          "2022-01-27T00:00:00",
          "2022-01-28T00:00:00",
          "2022-01-29T00:00:00",
          "2022-01-30T00:00:00",
          "2022-01-31T00:00:00",
          "2022-02-01T00:00:00",
          "2022-02-02T00:00:00",
          "2022-02-03T00:00:00",
          "2022-02-04T00:00:00",
          "2022-02-05T00:00:00",
          "2022-02-06T00:00:00",
          "2022-02-07T00:00:00",
          "2022-02-08T00:00:00",
          "2022-02-09T00:00:00",
          "2022-02-10T00:00:00",
          "2022-02-11T00:00:00",
          "2022-02-12T00:00:00"
         ],
         "xaxis": "x",
         "y": [
          0,
          0,
          0,
          1.7572315335273743,
          1.536631464958191,
          0,
          0,
          0,
          0,
          0,
          0,
          0,
          2.439976751804352,
          1.6857628226280212,
          1.715226173400879,
          0,
          0,
          0,
          0,
          6.352717876434326,
          6.013920962810516,
          0,
          0,
          0,
          0,
          0,
          1.6677285432815552,
          0.7781984210014343,
          2.565876603126526,
          1.698093593120575
         ],
         "yaxis": "y"
        },
        {
         "alignmentgroup": "True",
         "hovertemplate": "model_prediction=neutral<br>date=%{x}<br>sentiment scores=%{y}<extra></extra>",
         "legendgroup": "neutral",
         "marker": {
          "color": "#636EFA",
          "pattern": {
           "shape": ""
          }
         },
         "name": "neutral",
         "offsetgroup": "neutral",
         "orientation": "v",
         "showlegend": true,
         "textposition": "auto",
         "type": "bar",
         "x": [
          "2022-01-14T00:00:00",
          "2022-01-15T00:00:00",
          "2022-01-16T00:00:00",
          "2022-01-17T00:00:00",
          "2022-01-18T00:00:00",
          "2022-01-19T00:00:00",
          "2022-01-20T00:00:00",
          "2022-01-21T00:00:00",
          "2022-01-22T00:00:00",
          "2022-01-23T00:00:00",
          "2022-01-24T00:00:00",
          "2022-01-25T00:00:00",
          "2022-01-26T00:00:00",
          "2022-01-27T00:00:00",
          "2022-01-28T00:00:00",
          "2022-01-29T00:00:00",
          "2022-01-30T00:00:00",
          "2022-01-31T00:00:00",
          "2022-02-01T00:00:00",
          "2022-02-02T00:00:00",
          "2022-02-03T00:00:00",
          "2022-02-04T00:00:00",
          "2022-02-05T00:00:00",
          "2022-02-06T00:00:00",
          "2022-02-07T00:00:00",
          "2022-02-08T00:00:00",
          "2022-02-09T00:00:00",
          "2022-02-10T00:00:00",
          "2022-02-11T00:00:00",
          "2022-02-12T00:00:00"
         ],
         "xaxis": "x",
         "y": [
          1.8614965677261353,
          1.66982764005661,
          3.82674241065979,
          5.431006729602814,
          3.844034254550934,
          0,
          0,
          0,
          0,
          0,
          0,
          0,
          14.068104714155197,
          1.9484285712242126,
          2.4339507818222046,
          0.9720063209533691,
          0,
          0,
          0,
          7.043663203716278,
          12.796977043151855,
          0,
          0,
          0,
          0.8693281412124634,
          1.989153504371643,
          3.515804409980774,
          2.853350341320038,
          3.8823960423469543,
          0.9900104403495789
         ],
         "yaxis": "y"
        },
        {
         "alignmentgroup": "True",
         "hovertemplate": "model_prediction=positive<br>date=%{x}<br>sentiment scores=%{y}<extra></extra>",
         "legendgroup": "positive",
         "marker": {
          "color": "#00CC96",
          "pattern": {
           "shape": ""
          }
         },
         "name": "positive",
         "offsetgroup": "positive",
         "orientation": "v",
         "showlegend": true,
         "textposition": "auto",
         "type": "bar",
         "x": [
          "2022-01-14T00:00:00",
          "2022-01-15T00:00:00",
          "2022-01-16T00:00:00",
          "2022-01-17T00:00:00",
          "2022-01-18T00:00:00",
          "2022-01-19T00:00:00",
          "2022-01-20T00:00:00",
          "2022-01-21T00:00:00",
          "2022-01-22T00:00:00",
          "2022-01-23T00:00:00",
          "2022-01-24T00:00:00",
          "2022-01-25T00:00:00",
          "2022-01-26T00:00:00",
          "2022-01-27T00:00:00",
          "2022-01-28T00:00:00",
          "2022-01-29T00:00:00",
          "2022-01-30T00:00:00",
          "2022-01-31T00:00:00",
          "2022-02-01T00:00:00",
          "2022-02-02T00:00:00",
          "2022-02-03T00:00:00",
          "2022-02-04T00:00:00",
          "2022-02-05T00:00:00",
          "2022-02-06T00:00:00",
          "2022-02-07T00:00:00",
          "2022-02-08T00:00:00",
          "2022-02-09T00:00:00",
          "2022-02-10T00:00:00",
          "2022-02-11T00:00:00",
          "2022-02-12T00:00:00"
         ],
         "xaxis": "x",
         "y": [
          0.879016101360321,
          3.729352355003357,
          3.674218714237213,
          7.09751695394516,
          6.56276148557663,
          0,
          0,
          0,
          0,
          0,
          0,
          0,
          5.704058229923248,
          2.8290099501609802,
          0,
          2.7653674483299255,
          0.9809242486953735,
          0,
          0,
          4.223867416381836,
          2.821942687034607,
          0,
          0,
          0,
          0.7748847007751465,
          5.332951545715332,
          6.750076532363892,
          4.630676984786987,
          1.9630427956581116,
          1.8634755611419678
         ],
         "yaxis": "y"
        }
       ],
       "layout": {
        "autosize": true,
        "barmode": "group",
        "legend": {
         "title": {
          "text": "model_prediction"
         },
         "tracegroupgap": 0
        },
        "margin": {
         "t": 60
        },
        "template": {
         "data": {
          "bar": [
           {
            "error_x": {
             "color": "#2a3f5f"
            },
            "error_y": {
             "color": "#2a3f5f"
            },
            "marker": {
             "line": {
              "color": "#E5ECF6",
              "width": 0.5
             },
             "pattern": {
              "fillmode": "overlay",
              "size": 10,
              "solidity": 0.2
             }
            },
            "type": "bar"
           }
          ],
          "barpolar": [
           {
            "marker": {
             "line": {
              "color": "#E5ECF6",
              "width": 0.5
             },
             "pattern": {
              "fillmode": "overlay",
              "size": 10,
              "solidity": 0.2
             }
            },
            "type": "barpolar"
           }
          ],
          "carpet": [
           {
            "aaxis": {
             "endlinecolor": "#2a3f5f",
             "gridcolor": "white",
             "linecolor": "white",
             "minorgridcolor": "white",
             "startlinecolor": "#2a3f5f"
            },
            "baxis": {
             "endlinecolor": "#2a3f5f",
             "gridcolor": "white",
             "linecolor": "white",
             "minorgridcolor": "white",
             "startlinecolor": "#2a3f5f"
            },
            "type": "carpet"
           }
          ],
          "choropleth": [
           {
            "colorbar": {
             "outlinewidth": 0,
             "ticks": ""
            },
            "type": "choropleth"
           }
          ],
          "contour": [
           {
            "colorbar": {
             "outlinewidth": 0,
             "ticks": ""
            },
            "colorscale": [
             [
              0,
              "#0d0887"
             ],
             [
              0.1111111111111111,
              "#46039f"
             ],
             [
              0.2222222222222222,
              "#7201a8"
             ],
             [
              0.3333333333333333,
              "#9c179e"
             ],
             [
              0.4444444444444444,
              "#bd3786"
             ],
             [
              0.5555555555555556,
              "#d8576b"
             ],
             [
              0.6666666666666666,
              "#ed7953"
             ],
             [
              0.7777777777777778,
              "#fb9f3a"
             ],
             [
              0.8888888888888888,
              "#fdca26"
             ],
             [
              1,
              "#f0f921"
             ]
            ],
            "type": "contour"
           }
          ],
          "contourcarpet": [
           {
            "colorbar": {
             "outlinewidth": 0,
             "ticks": ""
            },
            "type": "contourcarpet"
           }
          ],
          "heatmap": [
           {
            "colorbar": {
             "outlinewidth": 0,
             "ticks": ""
            },
            "colorscale": [
             [
              0,
              "#0d0887"
             ],
             [
              0.1111111111111111,
              "#46039f"
             ],
             [
              0.2222222222222222,
              "#7201a8"
             ],
             [
              0.3333333333333333,
              "#9c179e"
             ],
             [
              0.4444444444444444,
              "#bd3786"
             ],
             [
              0.5555555555555556,
              "#d8576b"
             ],
             [
              0.6666666666666666,
              "#ed7953"
             ],
             [
              0.7777777777777778,
              "#fb9f3a"
             ],
             [
              0.8888888888888888,
              "#fdca26"
             ],
             [
              1,
              "#f0f921"
             ]
            ],
            "type": "heatmap"
           }
          ],
          "heatmapgl": [
           {
            "colorbar": {
             "outlinewidth": 0,
             "ticks": ""
            },
            "colorscale": [
             [
              0,
              "#0d0887"
             ],
             [
              0.1111111111111111,
              "#46039f"
             ],
             [
              0.2222222222222222,
              "#7201a8"
             ],
             [
              0.3333333333333333,
              "#9c179e"
             ],
             [
              0.4444444444444444,
              "#bd3786"
             ],
             [
              0.5555555555555556,
              "#d8576b"
             ],
             [
              0.6666666666666666,
              "#ed7953"
             ],
             [
              0.7777777777777778,
              "#fb9f3a"
             ],
             [
              0.8888888888888888,
              "#fdca26"
             ],
             [
              1,
              "#f0f921"
             ]
            ],
            "type": "heatmapgl"
           }
          ],
          "histogram": [
           {
            "marker": {
             "pattern": {
              "fillmode": "overlay",
              "size": 10,
              "solidity": 0.2
             }
            },
            "type": "histogram"
           }
          ],
          "histogram2d": [
           {
            "colorbar": {
             "outlinewidth": 0,
             "ticks": ""
            },
            "colorscale": [
             [
              0,
              "#0d0887"
             ],
             [
              0.1111111111111111,
              "#46039f"
             ],
             [
              0.2222222222222222,
              "#7201a8"
             ],
             [
              0.3333333333333333,
              "#9c179e"
             ],
             [
              0.4444444444444444,
              "#bd3786"
             ],
             [
              0.5555555555555556,
              "#d8576b"
             ],
             [
              0.6666666666666666,
              "#ed7953"
             ],
             [
              0.7777777777777778,
              "#fb9f3a"
             ],
             [
              0.8888888888888888,
              "#fdca26"
             ],
             [
              1,
              "#f0f921"
             ]
            ],
            "type": "histogram2d"
           }
          ],
          "histogram2dcontour": [
           {
            "colorbar": {
             "outlinewidth": 0,
             "ticks": ""
            },
            "colorscale": [
             [
              0,
              "#0d0887"
             ],
             [
              0.1111111111111111,
              "#46039f"
             ],
             [
              0.2222222222222222,
              "#7201a8"
             ],
             [
              0.3333333333333333,
              "#9c179e"
             ],
             [
              0.4444444444444444,
              "#bd3786"
             ],
             [
              0.5555555555555556,
              "#d8576b"
             ],
             [
              0.6666666666666666,
              "#ed7953"
             ],
             [
              0.7777777777777778,
              "#fb9f3a"
             ],
             [
              0.8888888888888888,
              "#fdca26"
             ],
             [
              1,
              "#f0f921"
             ]
            ],
            "type": "histogram2dcontour"
           }
          ],
          "mesh3d": [
           {
            "colorbar": {
             "outlinewidth": 0,
             "ticks": ""
            },
            "type": "mesh3d"
           }
          ],
          "parcoords": [
           {
            "line": {
             "colorbar": {
              "outlinewidth": 0,
              "ticks": ""
             }
            },
            "type": "parcoords"
           }
          ],
          "pie": [
           {
            "automargin": true,
            "type": "pie"
           }
          ],
          "scatter": [
           {
            "marker": {
             "colorbar": {
              "outlinewidth": 0,
              "ticks": ""
             }
            },
            "type": "scatter"
           }
          ],
          "scatter3d": [
           {
            "line": {
             "colorbar": {
              "outlinewidth": 0,
              "ticks": ""
             }
            },
            "marker": {
             "colorbar": {
              "outlinewidth": 0,
              "ticks": ""
             }
            },
            "type": "scatter3d"
           }
          ],
          "scattercarpet": [
           {
            "marker": {
             "colorbar": {
              "outlinewidth": 0,
              "ticks": ""
             }
            },
            "type": "scattercarpet"
           }
          ],
          "scattergeo": [
           {
            "marker": {
             "colorbar": {
              "outlinewidth": 0,
              "ticks": ""
             }
            },
            "type": "scattergeo"
           }
          ],
          "scattergl": [
           {
            "marker": {
             "colorbar": {
              "outlinewidth": 0,
              "ticks": ""
             }
            },
            "type": "scattergl"
           }
          ],
          "scattermapbox": [
           {
            "marker": {
             "colorbar": {
              "outlinewidth": 0,
              "ticks": ""
             }
            },
            "type": "scattermapbox"
           }
          ],
          "scatterpolar": [
           {
            "marker": {
             "colorbar": {
              "outlinewidth": 0,
              "ticks": ""
             }
            },
            "type": "scatterpolar"
           }
          ],
          "scatterpolargl": [
           {
            "marker": {
             "colorbar": {
              "outlinewidth": 0,
              "ticks": ""
             }
            },
            "type": "scatterpolargl"
           }
          ],
          "scatterternary": [
           {
            "marker": {
             "colorbar": {
              "outlinewidth": 0,
              "ticks": ""
             }
            },
            "type": "scatterternary"
           }
          ],
          "surface": [
           {
            "colorbar": {
             "outlinewidth": 0,
             "ticks": ""
            },
            "colorscale": [
             [
              0,
              "#0d0887"
             ],
             [
              0.1111111111111111,
              "#46039f"
             ],
             [
              0.2222222222222222,
              "#7201a8"
             ],
             [
              0.3333333333333333,
              "#9c179e"
             ],
             [
              0.4444444444444444,
              "#bd3786"
             ],
             [
              0.5555555555555556,
              "#d8576b"
             ],
             [
              0.6666666666666666,
              "#ed7953"
             ],
             [
              0.7777777777777778,
              "#fb9f3a"
             ],
             [
              0.8888888888888888,
              "#fdca26"
             ],
             [
              1,
              "#f0f921"
             ]
            ],
            "type": "surface"
           }
          ],
          "table": [
           {
            "cells": {
             "fill": {
              "color": "#EBF0F8"
             },
             "line": {
              "color": "white"
             }
            },
            "header": {
             "fill": {
              "color": "#C8D4E3"
             },
             "line": {
              "color": "white"
             }
            },
            "type": "table"
           }
          ]
         },
         "layout": {
          "annotationdefaults": {
           "arrowcolor": "#2a3f5f",
           "arrowhead": 0,
           "arrowwidth": 1
          },
          "autotypenumbers": "strict",
          "coloraxis": {
           "colorbar": {
            "outlinewidth": 0,
            "ticks": ""
           }
          },
          "colorscale": {
           "diverging": [
            [
             0,
             "#8e0152"
            ],
            [
             0.1,
             "#c51b7d"
            ],
            [
             0.2,
             "#de77ae"
            ],
            [
             0.3,
             "#f1b6da"
            ],
            [
             0.4,
             "#fde0ef"
            ],
            [
             0.5,
             "#f7f7f7"
            ],
            [
             0.6,
             "#e6f5d0"
            ],
            [
             0.7,
             "#b8e186"
            ],
            [
             0.8,
             "#7fbc41"
            ],
            [
             0.9,
             "#4d9221"
            ],
            [
             1,
             "#276419"
            ]
           ],
           "sequential": [
            [
             0,
             "#0d0887"
            ],
            [
             0.1111111111111111,
             "#46039f"
            ],
            [
             0.2222222222222222,
             "#7201a8"
            ],
            [
             0.3333333333333333,
             "#9c179e"
            ],
            [
             0.4444444444444444,
             "#bd3786"
            ],
            [
             0.5555555555555556,
             "#d8576b"
            ],
            [
             0.6666666666666666,
             "#ed7953"
            ],
            [
             0.7777777777777778,
             "#fb9f3a"
            ],
            [
             0.8888888888888888,
             "#fdca26"
            ],
            [
             1,
             "#f0f921"
            ]
           ],
           "sequentialminus": [
            [
             0,
             "#0d0887"
            ],
            [
             0.1111111111111111,
             "#46039f"
            ],
            [
             0.2222222222222222,
             "#7201a8"
            ],
            [
             0.3333333333333333,
             "#9c179e"
            ],
            [
             0.4444444444444444,
             "#bd3786"
            ],
            [
             0.5555555555555556,
             "#d8576b"
            ],
            [
             0.6666666666666666,
             "#ed7953"
            ],
            [
             0.7777777777777778,
             "#fb9f3a"
            ],
            [
             0.8888888888888888,
             "#fdca26"
            ],
            [
             1,
             "#f0f921"
            ]
           ]
          },
          "colorway": [
           "#636efa",
           "#EF553B",
           "#00cc96",
           "#ab63fa",
           "#FFA15A",
           "#19d3f3",
           "#FF6692",
           "#B6E880",
           "#FF97FF",
           "#FECB52"
          ],
          "font": {
           "color": "#2a3f5f"
          },
          "geo": {
           "bgcolor": "white",
           "lakecolor": "white",
           "landcolor": "#E5ECF6",
           "showlakes": true,
           "showland": true,
           "subunitcolor": "white"
          },
          "hoverlabel": {
           "align": "left"
          },
          "hovermode": "closest",
          "mapbox": {
           "style": "light"
          },
          "paper_bgcolor": "white",
          "plot_bgcolor": "#E5ECF6",
          "polar": {
           "angularaxis": {
            "gridcolor": "white",
            "linecolor": "white",
            "ticks": ""
           },
           "bgcolor": "#E5ECF6",
           "radialaxis": {
            "gridcolor": "white",
            "linecolor": "white",
            "ticks": ""
           }
          },
          "scene": {
           "xaxis": {
            "backgroundcolor": "#E5ECF6",
            "gridcolor": "white",
            "gridwidth": 2,
            "linecolor": "white",
            "showbackground": true,
            "ticks": "",
            "zerolinecolor": "white"
           },
           "yaxis": {
            "backgroundcolor": "#E5ECF6",
            "gridcolor": "white",
            "gridwidth": 2,
            "linecolor": "white",
            "showbackground": true,
            "ticks": "",
            "zerolinecolor": "white"
           },
           "zaxis": {
            "backgroundcolor": "#E5ECF6",
            "gridcolor": "white",
            "gridwidth": 2,
            "linecolor": "white",
            "showbackground": true,
            "ticks": "",
            "zerolinecolor": "white"
           }
          },
          "shapedefaults": {
           "line": {
            "color": "#2a3f5f"
           }
          },
          "ternary": {
           "aaxis": {
            "gridcolor": "white",
            "linecolor": "white",
            "ticks": ""
           },
           "baxis": {
            "gridcolor": "white",
            "linecolor": "white",
            "ticks": ""
           },
           "bgcolor": "#E5ECF6",
           "caxis": {
            "gridcolor": "white",
            "linecolor": "white",
            "ticks": ""
           }
          },
          "title": {
           "x": 0.05
          },
          "xaxis": {
           "automargin": true,
           "gridcolor": "white",
           "linecolor": "white",
           "ticks": "",
           "title": {
            "standoff": 15
           },
           "zerolinecolor": "white",
           "zerolinewidth": 2
          },
          "yaxis": {
           "automargin": true,
           "gridcolor": "white",
           "linecolor": "white",
           "ticks": "",
           "title": {
            "standoff": 15
           },
           "zerolinecolor": "white",
           "zerolinewidth": 2
          }
         }
        },
        "xaxis": {
         "anchor": "y",
         "autorange": true,
         "domain": [
          0,
          1
         ],
         "range": [
          "2022-01-13 12:00",
          "2022-02-12 12:00"
         ],
         "title": {
          "text": "date"
         },
         "type": "date"
        },
        "yaxis": {
         "anchor": "x",
         "autorange": true,
         "domain": [
          0,
          1
         ],
         "range": [
          0,
          14.808531278058101
         ],
         "title": {
          "text": "sentiment scores"
         },
         "type": "linear"
        }
       }
      },
      "image/png": "[encoded data removed]",
      "text/html": [
       "<div>                            <div id=\"9afcfbf3-5787-4ad6-ab96-6c5fadd78105\" class=\"plotly-graph-div\" style=\"height:525px; width:100%;\"></div>            <script type=\"text/javascript\">                require([\"plotly\"], function(Plotly) {                    window.PLOTLYENV=window.PLOTLYENV || {};                                    if (document.getElementById(\"9afcfbf3-5787-4ad6-ab96-6c5fadd78105\")) {                    Plotly.newPlot(                        \"9afcfbf3-5787-4ad6-ab96-6c5fadd78105\",                        [{\"alignmentgroup\":\"True\",\"hovertemplate\":\"model_prediction=negative<br>date=%{x}<br>sentiment scores=%{y}<extra></extra>\",\"legendgroup\":\"negative\",\"marker\":{\"color\":\"#EF553B\",\"pattern\":{\"shape\":\"\"}},\"name\":\"negative\",\"offsetgroup\":\"negative\",\"orientation\":\"v\",\"showlegend\":true,\"textposition\":\"auto\",\"x\":[\"2022-01-14T00:00:00\",\"2022-01-15T00:00:00\",\"2022-01-16T00:00:00\",\"2022-01-17T00:00:00\",\"2022-01-18T00:00:00\",\"2022-01-19T00:00:00\",\"2022-01-20T00:00:00\",\"2022-01-21T00:00:00\",\"2022-01-22T00:00:00\",\"2022-01-23T00:00:00\",\"2022-01-24T00:00:00\",\"2022-01-25T00:00:00\",\"2022-01-26T00:00:00\",\"2022-01-27T00:00:00\",\"2022-01-28T00:00:00\",\"2022-01-29T00:00:00\",\"2022-01-30T00:00:00\",\"2022-01-31T00:00:00\",\"2022-02-01T00:00:00\",\"2022-02-02T00:00:00\",\"2022-02-03T00:00:00\",\"2022-02-04T00:00:00\",\"2022-02-05T00:00:00\",\"2022-02-06T00:00:00\",\"2022-02-07T00:00:00\",\"2022-02-08T00:00:00\",\"2022-02-09T00:00:00\",\"2022-02-10T00:00:00\",\"2022-02-11T00:00:00\",\"2022-02-12T00:00:00\"],\"xaxis\":\"x\",\"y\":[0.0,0.0,0.0,1.7572315335273743,1.536631464958191,0.0,0.0,0.0,0.0,0.0,0.0,0.0,2.439976751804352,1.6857628226280212,1.715226173400879,0.0,0.0,0.0,0.0,6.352717876434326,6.013920962810516,0.0,0.0,0.0,0.0,0.0,1.6677285432815552,0.7781984210014343,2.565876603126526,1.698093593120575],\"yaxis\":\"y\",\"type\":\"bar\"},{\"alignmentgroup\":\"True\",\"hovertemplate\":\"model_prediction=neutral<br>date=%{x}<br>sentiment scores=%{y}<extra></extra>\",\"legendgroup\":\"neutral\",\"marker\":{\"color\":\"#636EFA\",\"pattern\":{\"shape\":\"\"}},\"name\":\"neutral\",\"offsetgroup\":\"neutral\",\"orientation\":\"v\",\"showlegend\":true,\"textposition\":\"auto\",\"x\":[\"2022-01-14T00:00:00\",\"2022-01-15T00:00:00\",\"2022-01-16T00:00:00\",\"2022-01-17T00:00:00\",\"2022-01-18T00:00:00\",\"2022-01-19T00:00:00\",\"2022-01-20T00:00:00\",\"2022-01-21T00:00:00\",\"2022-01-22T00:00:00\",\"2022-01-23T00:00:00\",\"2022-01-24T00:00:00\",\"2022-01-25T00:00:00\",\"2022-01-26T00:00:00\",\"2022-01-27T00:00:00\",\"2022-01-28T00:00:00\",\"2022-01-29T00:00:00\",\"2022-01-30T00:00:00\",\"2022-01-31T00:00:00\",\"2022-02-01T00:00:00\",\"2022-02-02T00:00:00\",\"2022-02-03T00:00:00\",\"2022-02-04T00:00:00\",\"2022-02-05T00:00:00\",\"2022-02-06T00:00:00\",\"2022-02-07T00:00:00\",\"2022-02-08T00:00:00\",\"2022-02-09T00:00:00\",\"2022-02-10T00:00:00\",\"2022-02-11T00:00:00\",\"2022-02-12T00:00:00\"],\"xaxis\":\"x\",\"y\":[1.8614965677261353,1.66982764005661,3.82674241065979,5.431006729602814,3.844034254550934,0.0,0.0,0.0,0.0,0.0,0.0,0.0,14.068104714155197,1.9484285712242126,2.4339507818222046,0.9720063209533691,0.0,0.0,0.0,7.043663203716278,12.796977043151855,0.0,0.0,0.0,0.8693281412124634,1.989153504371643,3.515804409980774,2.853350341320038,3.8823960423469543,0.9900104403495789],\"yaxis\":\"y\",\"type\":\"bar\"},{\"alignmentgroup\":\"True\",\"hovertemplate\":\"model_prediction=positive<br>date=%{x}<br>sentiment scores=%{y}<extra></extra>\",\"legendgroup\":\"positive\",\"marker\":{\"color\":\"#00CC96\",\"pattern\":{\"shape\":\"\"}},\"name\":\"positive\",\"offsetgroup\":\"positive\",\"orientation\":\"v\",\"showlegend\":true,\"textposition\":\"auto\",\"x\":[\"2022-01-14T00:00:00\",\"2022-01-15T00:00:00\",\"2022-01-16T00:00:00\",\"2022-01-17T00:00:00\",\"2022-01-18T00:00:00\",\"2022-01-19T00:00:00\",\"2022-01-20T00:00:00\",\"2022-01-21T00:00:00\",\"2022-01-22T00:00:00\",\"2022-01-23T00:00:00\",\"2022-01-24T00:00:00\",\"2022-01-25T00:00:00\",\"2022-01-26T00:00:00\",\"2022-01-27T00:00:00\",\"2022-01-28T00:00:00\",\"2022-01-29T00:00:00\",\"2022-01-30T00:00:00\",\"2022-01-31T00:00:00\",\"2022-02-01T00:00:00\",\"2022-02-02T00:00:00\",\"2022-02-03T00:00:00\",\"2022-02-04T00:00:00\",\"2022-02-05T00:00:00\",\"2022-02-06T00:00:00\",\"2022-02-07T00:00:00\",\"2022-02-08T00:00:00\",\"2022-02-09T00:00:00\",\"2022-02-10T00:00:00\",\"2022-02-11T00:00:00\",\"2022-02-12T00:00:00\"],\"xaxis\":\"x\",\"y\":[0.879016101360321,3.729352355003357,3.674218714237213,7.09751695394516,6.56276148557663,0.0,0.0,0.0,0.0,0.0,0.0,0.0,5.704058229923248,2.8290099501609802,0.0,2.7653674483299255,0.9809242486953735,0.0,0.0,4.223867416381836,2.821942687034607,0.0,0.0,0.0,0.7748847007751465,5.332951545715332,6.750076532363892,4.630676984786987,1.9630427956581116,1.8634755611419678],\"yaxis\":\"y\",\"type\":\"bar\"}],                        {\"template\":{\"data\":{\"bar\":[{\"error_x\":{\"color\":\"#2a3f5f\"},\"error_y\":{\"color\":\"#2a3f5f\"},\"marker\":{\"line\":{\"color\":\"#E5ECF6\",\"width\":0.5},\"pattern\":{\"fillmode\":\"overlay\",\"size\":10,\"solidity\":0.2}},\"type\":\"bar\"}],\"barpolar\":[{\"marker\":{\"line\":{\"color\":\"#E5ECF6\",\"width\":0.5},\"pattern\":{\"fillmode\":\"overlay\",\"size\":10,\"solidity\":0.2}},\"type\":\"barpolar\"}],\"carpet\":[{\"aaxis\":{\"endlinecolor\":\"#2a3f5f\",\"gridcolor\":\"white\",\"linecolor\":\"white\",\"minorgridcolor\":\"white\",\"startlinecolor\":\"#2a3f5f\"},\"baxis\":{\"endlinecolor\":\"#2a3f5f\",\"gridcolor\":\"white\",\"linecolor\":\"white\",\"minorgridcolor\":\"white\",\"startlinecolor\":\"#2a3f5f\"},\"type\":\"carpet\"}],\"choropleth\":[{\"colorbar\":{\"outlinewidth\":0,\"ticks\":\"\"},\"type\":\"choropleth\"}],\"contour\":[{\"colorbar\":{\"outlinewidth\":0,\"ticks\":\"\"},\"colorscale\":[[0.0,\"#0d0887\"],[0.1111111111111111,\"#46039f\"],[0.2222222222222222,\"#7201a8\"],[0.3333333333333333,\"#9c179e\"],[0.4444444444444444,\"#bd3786\"],[0.5555555555555556,\"#d8576b\"],[0.6666666666666666,\"#ed7953\"],[0.7777777777777778,\"#fb9f3a\"],[0.8888888888888888,\"#fdca26\"],[1.0,\"#f0f921\"]],\"type\":\"contour\"}],\"contourcarpet\":[{\"colorbar\":{\"outlinewidth\":0,\"ticks\":\"\"},\"type\":\"contourcarpet\"}],\"heatmap\":[{\"colorbar\":{\"outlinewidth\":0,\"ticks\":\"\"},\"colorscale\":[[0.0,\"#0d0887\"],[0.1111111111111111,\"#46039f\"],[0.2222222222222222,\"#7201a8\"],[0.3333333333333333,\"#9c179e\"],[0.4444444444444444,\"#bd3786\"],[0.5555555555555556,\"#d8576b\"],[0.6666666666666666,\"#ed7953\"],[0.7777777777777778,\"#fb9f3a\"],[0.8888888888888888,\"#fdca26\"],[1.0,\"#f0f921\"]],\"type\":\"heatmap\"}],\"heatmapgl\":[{\"colorbar\":{\"outlinewidth\":0,\"ticks\":\"\"},\"colorscale\":[[0.0,\"#0d0887\"],[0.1111111111111111,\"#46039f\"],[0.2222222222222222,\"#7201a8\"],[0.3333333333333333,\"#9c179e\"],[0.4444444444444444,\"#bd3786\"],[0.5555555555555556,\"#d8576b\"],[0.6666666666666666,\"#ed7953\"],[0.7777777777777778,\"#fb9f3a\"],[0.8888888888888888,\"#fdca26\"],[1.0,\"#f0f921\"]],\"type\":\"heatmapgl\"}],\"histogram\":[{\"marker\":{\"pattern\":{\"fillmode\":\"overlay\",\"size\":10,\"solidity\":0.2}},\"type\":\"histogram\"}],\"histogram2d\":[{\"colorbar\":{\"outlinewidth\":0,\"ticks\":\"\"},\"colorscale\":[[0.0,\"#0d0887\"],[0.1111111111111111,\"#46039f\"],[0.2222222222222222,\"#7201a8\"],[0.3333333333333333,\"#9c179e\"],[0.4444444444444444,\"#bd3786\"],[0.5555555555555556,\"#d8576b\"],[0.6666666666666666,\"#ed7953\"],[0.7777777777777778,\"#fb9f3a\"],[0.8888888888888888,\"#fdca26\"],[1.0,\"#f0f921\"]],\"type\":\"histogram2d\"}],\"histogram2dcontour\":[{\"colorbar\":{\"outlinewidth\":0,\"ticks\":\"\"},\"colorscale\":[[0.0,\"#0d0887\"],[0.1111111111111111,\"#46039f\"],[0.2222222222222222,\"#7201a8\"],[0.3333333333333333,\"#9c179e\"],[0.4444444444444444,\"#bd3786\"],[0.5555555555555556,\"#d8576b\"],[0.6666666666666666,\"#ed7953\"],[0.7777777777777778,\"#fb9f3a\"],[0.8888888888888888,\"#fdca26\"],[1.0,\"#f0f921\"]],\"type\":\"histogram2dcontour\"}],\"mesh3d\":[{\"colorbar\":{\"outlinewidth\":0,\"ticks\":\"\"},\"type\":\"mesh3d\"}],\"parcoords\":[{\"line\":{\"colorbar\":{\"outlinewidth\":0,\"ticks\":\"\"}},\"type\":\"parcoords\"}],\"pie\":[{\"automargin\":true,\"type\":\"pie\"}],\"scatter\":[{\"marker\":{\"colorbar\":{\"outlinewidth\":0,\"ticks\":\"\"}},\"type\":\"scatter\"}],\"scatter3d\":[{\"line\":{\"colorbar\":{\"outlinewidth\":0,\"ticks\":\"\"}},\"marker\":{\"colorbar\":{\"outlinewidth\":0,\"ticks\":\"\"}},\"type\":\"scatter3d\"}],\"scattercarpet\":[{\"marker\":{\"colorbar\":{\"outlinewidth\":0,\"ticks\":\"\"}},\"type\":\"scattercarpet\"}],\"scattergeo\":[{\"marker\":{\"colorbar\":{\"outlinewidth\":0,\"ticks\":\"\"}},\"type\":\"scattergeo\"}],\"scattergl\":[{\"marker\":{\"colorbar\":{\"outlinewidth\":0,\"ticks\":\"\"}},\"type\":\"scattergl\"}],\"scattermapbox\":[{\"marker\":{\"colorbar\":{\"outlinewidth\":0,\"ticks\":\"\"}},\"type\":\"scattermapbox\"}],\"scatterpolar\":[{\"marker\":{\"colorbar\":{\"outlinewidth\":0,\"ticks\":\"\"}},\"type\":\"scatterpolar\"}],\"scatterpolargl\":[{\"marker\":{\"colorbar\":{\"outlinewidth\":0,\"ticks\":\"\"}},\"type\":\"scatterpolargl\"}],\"scatterternary\":[{\"marker\":{\"colorbar\":{\"outlinewidth\":0,\"ticks\":\"\"}},\"type\":\"scatterternary\"}],\"surface\":[{\"colorbar\":{\"outlinewidth\":0,\"ticks\":\"\"},\"colorscale\":[[0.0,\"#0d0887\"],[0.1111111111111111,\"#46039f\"],[0.2222222222222222,\"#7201a8\"],[0.3333333333333333,\"#9c179e\"],[0.4444444444444444,\"#bd3786\"],[0.5555555555555556,\"#d8576b\"],[0.6666666666666666,\"#ed7953\"],[0.7777777777777778,\"#fb9f3a\"],[0.8888888888888888,\"#fdca26\"],[1.0,\"#f0f921\"]],\"type\":\"surface\"}],\"table\":[{\"cells\":{\"fill\":{\"color\":\"#EBF0F8\"},\"line\":{\"color\":\"white\"}},\"header\":{\"fill\":{\"color\":\"#C8D4E3\"},\"line\":{\"color\":\"white\"}},\"type\":\"table\"}]},\"layout\":{\"annotationdefaults\":{\"arrowcolor\":\"#2a3f5f\",\"arrowhead\":0,\"arrowwidth\":1},\"autotypenumbers\":\"strict\",\"coloraxis\":{\"colorbar\":{\"outlinewidth\":0,\"ticks\":\"\"}},\"colorscale\":{\"diverging\":[[0,\"#8e0152\"],[0.1,\"#c51b7d\"],[0.2,\"#de77ae\"],[0.3,\"#f1b6da\"],[0.4,\"#fde0ef\"],[0.5,\"#f7f7f7\"],[0.6,\"#e6f5d0\"],[0.7,\"#b8e186\"],[0.8,\"#7fbc41\"],[0.9,\"#4d9221\"],[1,\"#276419\"]],\"sequential\":[[0.0,\"#0d0887\"],[0.1111111111111111,\"#46039f\"],[0.2222222222222222,\"#7201a8\"],[0.3333333333333333,\"#9c179e\"],[0.4444444444444444,\"#bd3786\"],[0.5555555555555556,\"#d8576b\"],[0.6666666666666666,\"#ed7953\"],[0.7777777777777778,\"#fb9f3a\"],[0.8888888888888888,\"#fdca26\"],[1.0,\"#f0f921\"]],\"sequentialminus\":[[0.0,\"#0d0887\"],[0.1111111111111111,\"#46039f\"],[0.2222222222222222,\"#7201a8\"],[0.3333333333333333,\"#9c179e\"],[0.4444444444444444,\"#bd3786\"],[0.5555555555555556,\"#d8576b\"],[0.6666666666666666,\"#ed7953\"],[0.7777777777777778,\"#fb9f3a\"],[0.8888888888888888,\"#fdca26\"],[1.0,\"#f0f921\"]]},\"colorway\":[\"#636efa\",\"#EF553B\",\"#00cc96\",\"#ab63fa\",\"#FFA15A\",\"#19d3f3\",\"#FF6692\",\"#B6E880\",\"#FF97FF\",\"#FECB52\"],\"font\":{\"color\":\"#2a3f5f\"},\"geo\":{\"bgcolor\":\"white\",\"lakecolor\":\"white\",\"landcolor\":\"#E5ECF6\",\"showlakes\":true,\"showland\":true,\"subunitcolor\":\"white\"},\"hoverlabel\":{\"align\":\"left\"},\"hovermode\":\"closest\",\"mapbox\":{\"style\":\"light\"},\"paper_bgcolor\":\"white\",\"plot_bgcolor\":\"#E5ECF6\",\"polar\":{\"angularaxis\":{\"gridcolor\":\"white\",\"linecolor\":\"white\",\"ticks\":\"\"},\"bgcolor\":\"#E5ECF6\",\"radialaxis\":{\"gridcolor\":\"white\",\"linecolor\":\"white\",\"ticks\":\"\"}},\"scene\":{\"xaxis\":{\"backgroundcolor\":\"#E5ECF6\",\"gridcolor\":\"white\",\"gridwidth\":2,\"linecolor\":\"white\",\"showbackground\":true,\"ticks\":\"\",\"zerolinecolor\":\"white\"},\"yaxis\":{\"backgroundcolor\":\"#E5ECF6\",\"gridcolor\":\"white\",\"gridwidth\":2,\"linecolor\":\"white\",\"showbackground\":true,\"ticks\":\"\",\"zerolinecolor\":\"white\"},\"zaxis\":{\"backgroundcolor\":\"#E5ECF6\",\"gridcolor\":\"white\",\"gridwidth\":2,\"linecolor\":\"white\",\"showbackground\":true,\"ticks\":\"\",\"zerolinecolor\":\"white\"}},\"shapedefaults\":{\"line\":{\"color\":\"#2a3f5f\"}},\"ternary\":{\"aaxis\":{\"gridcolor\":\"white\",\"linecolor\":\"white\",\"ticks\":\"\"},\"baxis\":{\"gridcolor\":\"white\",\"linecolor\":\"white\",\"ticks\":\"\"},\"bgcolor\":\"#E5ECF6\",\"caxis\":{\"gridcolor\":\"white\",\"linecolor\":\"white\",\"ticks\":\"\"}},\"title\":{\"x\":0.05},\"xaxis\":{\"automargin\":true,\"gridcolor\":\"white\",\"linecolor\":\"white\",\"ticks\":\"\",\"title\":{\"standoff\":15},\"zerolinecolor\":\"white\",\"zerolinewidth\":2},\"yaxis\":{\"automargin\":true,\"gridcolor\":\"white\",\"linecolor\":\"white\",\"ticks\":\"\",\"title\":{\"standoff\":15},\"zerolinecolor\":\"white\",\"zerolinewidth\":2}}},\"xaxis\":{\"anchor\":\"y\",\"domain\":[0.0,1.0],\"title\":{\"text\":\"date\"}},\"yaxis\":{\"anchor\":\"x\",\"domain\":[0.0,1.0],\"title\":{\"text\":\"sentiment scores\"}},\"legend\":{\"title\":{\"text\":\"model_prediction\"},\"tracegroupgap\":0},\"margin\":{\"t\":60},\"barmode\":\"group\"},                        {\"responsive\": true}                    ).then(function(){\n",
       "                            \n",
       "var gd = document.getElementById('9afcfbf3-5787-4ad6-ab96-6c5fadd78105');\n",
       "var x = new MutationObserver(function (mutations, observer) {{\n",
       "        var display = window.getComputedStyle(gd).display;\n",
       "        if (!display || display === 'none') {{\n",
       "            console.log([gd, 'removed!']);\n",
       "            Plotly.purge(gd);\n",
       "            observer.disconnect();\n",
       "        }}\n",
       "}});\n",
       "\n",
       "// Listen for the removal of the full notebook cells\n",
       "var notebookContainer = gd.closest('#notebook-container');\n",
       "if (notebookContainer) {{\n",
       "    x.observe(notebookContainer, {childList: true});\n",
       "}}\n",
       "\n",
       "// Listen for the clearing of the current output cell\n",
       "var outputEl = gd.closest('.output');\n",
       "if (outputEl) {{\n",
       "    x.observe(outputEl, {childList: true});\n",
       "}}\n",
       "\n",
       "                        })                };                });            </script>        </div>"
      ]
     },
     "metadata": {},
     "output_type": "display_data"
    }
   ],
   "source": [
    "px.bar(pipeline.summary(), \n",
    "       barmode=\"group\", \n",
    "       labels={\"value\": \"sentiment scores\"},\n",
    "       color_discrete_sequence=[px.colors.qualitative.Plotly[1], \n",
    "                                px.colors.qualitative.Plotly[0],\n",
    "                                px.colors.qualitative.Plotly[2]])"
   ]
  },
  {
   "cell_type": "code",
   "execution_count": null,
   "id": "e152fc33-8111-4a9d-9ac0-9f9a3c16f9fb",
   "metadata": {},
   "outputs": [],
   "source": []
  }
 ],
 "metadata": {
  "kernelspec": {
   "display_name": "Conda (base)",
   "language": "python",
   "name": "conda.base"
  },
  "language_info": {
   "codemirror_mode": {
    "name": "ipython",
    "version": 3
   },
   "file_extension": ".py",
   "mimetype": "text/x-python",
   "name": "python",
   "nbconvert_exporter": "python",
   "pygments_lexer": "ipython3",
   "version": "3.9.9"
  },
  "widgets": {
   "application/vnd.jupyter.widget-state+json": {
    "state": {},
    "version_major": 2,
    "version_minor": 0
   }
  }
 },
 "nbformat": 4,
 "nbformat_minor": 5
}
